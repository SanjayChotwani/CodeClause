{
  "nbformat": 4,
  "nbformat_minor": 0,
  "metadata": {
    "colab": {
      "provenance": []
    },
    "kernelspec": {
      "name": "python3",
      "display_name": "Python 3"
    },
    "language_info": {
      "name": "python"
    }
  },
  "cells": [
    {
      "cell_type": "code",
      "execution_count": 33,
      "metadata": {
        "id": "v19d1Eh6RhgG"
      },
      "outputs": [],
      "source": [
        "import tensorflow as tf\n",
        "from tensorflow.keras.datasets import mnist\n",
        "from tensorflow.keras.models import Sequential\n",
        "from tensorflow.keras.layers import Dense"
      ]
    },
    {
      "cell_type": "code",
      "source": [
        "(x_train, y_train), (x_test, y_test) = mnist.load_data()"
      ],
      "metadata": {
        "id": "Q0fywModR3RR"
      },
      "execution_count": 34,
      "outputs": []
    },
    {
      "cell_type": "code",
      "source": [
        "x_train = x_train.reshape(60000, 784) / 255.0\n",
        "x_test = x_test.reshape(10000, 784) / 255.0\n",
        "y_train = tf.keras.utils.to_categorical(y_train, 10)\n",
        "y_test = tf.keras.utils.to_categorical(y_test, 10)"
      ],
      "metadata": {
        "id": "9lWe_MqYR6Ze"
      },
      "execution_count": 35,
      "outputs": []
    },
    {
      "cell_type": "code",
      "source": [
        "model = Sequential()\n",
        "model.add(Dense(512, activation='relu', input_shape=(784,)))\n",
        "model.add(Dense(512, activation='relu'))\n",
        "model.add(Dense(10, activation='softmax'))"
      ],
      "metadata": {
        "id": "nEC0X0-8R9QY"
      },
      "execution_count": 36,
      "outputs": []
    },
    {
      "cell_type": "code",
      "source": [
        "model.compile(optimizer='adam', loss='categorical_crossentropy', metrics=['accuracy'])\n",
        "\n",
        "# Train the model\n",
        "model.fit(x_train, y_train, batch_size=128, epochs=10, verbose=1, validation_data=(x_test, y_test))"
      ],
      "metadata": {
        "colab": {
          "base_uri": "https://localhost:8080/"
        },
        "id": "_BhXRTmdR9SY",
        "outputId": "ef503004-4aed-411b-bb05-f92eb6626903"
      },
      "execution_count": 37,
      "outputs": [
        {
          "output_type": "stream",
          "name": "stdout",
          "text": [
            "Epoch 1/10\n",
            "469/469 [==============================] - 10s 19ms/step - loss: 0.2195 - accuracy: 0.9358 - val_loss: 0.0949 - val_accuracy: 0.9696\n",
            "Epoch 2/10\n",
            "469/469 [==============================] - 10s 21ms/step - loss: 0.0805 - accuracy: 0.9754 - val_loss: 0.0944 - val_accuracy: 0.9710\n",
            "Epoch 3/10\n",
            "469/469 [==============================] - 10s 21ms/step - loss: 0.0517 - accuracy: 0.9834 - val_loss: 0.0642 - val_accuracy: 0.9798\n",
            "Epoch 4/10\n",
            "469/469 [==============================] - 9s 19ms/step - loss: 0.0363 - accuracy: 0.9885 - val_loss: 0.0741 - val_accuracy: 0.9781\n",
            "Epoch 5/10\n",
            "469/469 [==============================] - 10s 21ms/step - loss: 0.0263 - accuracy: 0.9918 - val_loss: 0.0690 - val_accuracy: 0.9802\n",
            "Epoch 6/10\n",
            "469/469 [==============================] - 10s 21ms/step - loss: 0.0232 - accuracy: 0.9923 - val_loss: 0.0641 - val_accuracy: 0.9802\n",
            "Epoch 7/10\n",
            "469/469 [==============================] - 11s 23ms/step - loss: 0.0167 - accuracy: 0.9946 - val_loss: 0.0665 - val_accuracy: 0.9815\n",
            "Epoch 8/10\n",
            "469/469 [==============================] - 10s 20ms/step - loss: 0.0160 - accuracy: 0.9945 - val_loss: 0.0720 - val_accuracy: 0.9804\n",
            "Epoch 9/10\n",
            "469/469 [==============================] - 9s 20ms/step - loss: 0.0152 - accuracy: 0.9950 - val_loss: 0.0797 - val_accuracy: 0.9813\n",
            "Epoch 10/10\n",
            "469/469 [==============================] - 10s 21ms/step - loss: 0.0139 - accuracy: 0.9952 - val_loss: 0.0883 - val_accuracy: 0.9799\n"
          ]
        },
        {
          "output_type": "execute_result",
          "data": {
            "text/plain": [
              "<keras.callbacks.History at 0x7a040c8e2ce0>"
            ]
          },
          "metadata": {},
          "execution_count": 37
        }
      ]
    },
    {
      "cell_type": "code",
      "source": [
        "score = model.evaluate(x_test, y_test, verbose=0)\n",
        "print('Test loss:', score[0])\n",
        "print('Test accuracy:', score[1])"
      ],
      "metadata": {
        "colab": {
          "base_uri": "https://localhost:8080/"
        },
        "id": "3wS4LAD8R9T7",
        "outputId": "dd3f3b1d-3090-4c26-9602-b0e09af1691d"
      },
      "execution_count": 38,
      "outputs": [
        {
          "output_type": "stream",
          "name": "stdout",
          "text": [
            "Test loss: 0.08826006203889847\n",
            "Test accuracy: 0.9799000024795532\n"
          ]
        }
      ]
    },
    {
      "cell_type": "code",
      "source": [
        "import numpy as np\n",
        "import matplotlib.pyplot as plt\n",
        "predictions = model.predict(x_test)"
      ],
      "metadata": {
        "colab": {
          "base_uri": "https://localhost:8080/"
        },
        "id": "7g1QiIWnbjsR",
        "outputId": "502f3ae1-70df-4fce-947b-3b1ad9032f4b"
      },
      "execution_count": 39,
      "outputs": [
        {
          "output_type": "stream",
          "name": "stdout",
          "text": [
            "313/313 [==============================] - 1s 3ms/step\n"
          ]
        }
      ]
    },
    {
      "cell_type": "code",
      "source": [
        "original_image = x_test[6]\n",
        "\n",
        "\n",
        "original_image = original_image.reshape(28, 28)\n",
        "\n",
        "plt.imshow(original_image)\n",
        "plt.title(\"Original Image\")\n",
        "plt.axis(\"off\")\n",
        "plt.show()\n"
      ],
      "metadata": {
        "colab": {
          "base_uri": "https://localhost:8080/",
          "height": 428
        },
        "id": "0l1TwuDHdGHQ",
        "outputId": "b4fe9db2-4aff-4299-b49a-04ca5dc0b26d"
      },
      "execution_count": 40,
      "outputs": [
        {
          "output_type": "display_data",
          "data": {
            "text/plain": [
              "<Figure size 640x480 with 1 Axes>"
            ],
            "image/png": "[encoded data removed]"
          },
          "metadata": {}
        }
      ]
    },
    {
      "cell_type": "code",
      "source": [
        "\n",
        "predicted_label = np.argmax(predictions[6])\n",
        "plt.imshow(original_image)\n",
        "plt.title(f\"Predicted Class: {predicted_label}\")\n",
        "plt.axis(\"off\")\n",
        "plt.show()\n"
      ],
      "metadata": {
        "colab": {
          "base_uri": "https://localhost:8080/",
          "height": 428
        },
        "id": "NykNe5g3eYZp",
        "outputId": "5f8a2ce4-0f15-4198-90f6-978b45c05efe"
      },
      "execution_count": 41,
      "outputs": [
        {
          "output_type": "display_data",
          "data": {
            "text/plain": [
              "<Figure size 640x480 with 1 Axes>"
            ],
            "image/png": "[encoded data removed]"
          },
          "metadata": {}
        }
      ]
    }
  ]
}